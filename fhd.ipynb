{
 "cells": [
  {
   "cell_type": "code",
   "execution_count": 26,
   "id": "34d2a9c7",
   "metadata": {},
   "outputs": [],
   "source": [
    "import pandas as pd;\n",
    "import re;\n",
    "from sklearn.preprocessing import LabelEncoder;\n",
    "from sklearn.model_selection import train_test_split;\n",
    "from sklearn.ensemble import RandomForestRegressor;\n",
    "from sklearn.multioutput import MultiOutputRegressor;\n",
    "from sklearn.metrics import r2_score, mean_squared_error;"
   ]
  },
  {
   "cell_type": "code",
   "execution_count": 27,
   "id": "2588d1b0",
   "metadata": {},
   "outputs": [],
   "source": [
    "df = pd.read_csv(\"nanoreview.csv\")\n",
    "sf = pd.read_csv(\"Mobilesdataset.csv\", encoding=\"latin1\")"
   ]
  },
  {
   "cell_type": "code",
   "execution_count": 28,
   "id": "07767f80",
   "metadata": {},
   "outputs": [],
   "source": [
    "processor = df[[\"tablescraper-selected-row\",\"tablescraper-selected-row 2\"]]"
   ]
  },
  {
   "cell_type": "code",
   "execution_count": 29,
   "id": "4494902f",
   "metadata": {},
   "outputs": [],
   "source": [
    "Aplus = processor.loc[processor[\"tablescraper-selected-row 2\"] == 'A+',\"tablescraper-selected-row\"].to_list()\n",
    "#Aplus = Aplus.append('A17 Bionic')\n",
    "A = processor.loc[processor[\"tablescraper-selected-row 2\"] == 'A',\"tablescraper-selected-row\"].to_list()\n",
    "B = processor.loc[processor[\"tablescraper-selected-row 2\"] == 'B',\"tablescraper-selected-row\"].to_list()\n",
    "C = processor.loc[processor[\"tablescraper-selected-row 2\"] == 'C',\"tablescraper-selected-row\"].to_list()\n",
    "D = processor.loc[processor[\"tablescraper-selected-row 2\"] == 'D',\"tablescraper-selected-row\"].to_list()\n"
   ]
  },
  {
   "cell_type": "code",
   "execution_count": 30,
   "id": "10f9cd03",
   "metadata": {},
   "outputs": [],
   "source": [
    "def performance(pro_name):\n",
    "    rate = 0\n",
    "    if(pro_name in A):\n",
    "        rate += 8\n",
    "    elif(pro_name in Aplus or pro_name == 'A17 Bionic'):\n",
    "        rate += 10\n",
    "    elif(pro_name in B):\n",
    "        rate += 6\n",
    "    elif(pro_name in C):\n",
    "        rate += 4\n",
    "    elif(pro_name in D):\n",
    "        rate += 3\n",
    "    else:\n",
    "        rate += 3\n",
    "    return round(min(rate,10))\n",
    "sf['Performance'] = sf['Processor'].apply(performance)\n"
   ]
  },
  {
   "cell_type": "code",
   "execution_count": 31,
   "id": "91458490",
   "metadata": {},
   "outputs": [],
   "source": [
    "def camera(frontcamera,backcamera):\n",
    "    frontcamera = int(re.findall(r'\\d+',frontcamera)[0])\n",
    "    backcamera = int(re.findall(r'\\d+',backcamera)[0])\n",
    "    raw_score = (0.4 * frontcamera + 0.6 * backcamera) \n",
    "    return round(min(raw_score, 10), 1)\n",
    "sf['Camera'] = sf.apply(lambda row: camera(row['Front Camera'], row['Back Camera']), axis=1)\n",
    "\n"
   ]
  },
  {
   "cell_type": "code",
   "execution_count": 32,
   "id": "cd4a4153",
   "metadata": {},
   "outputs": [],
   "source": [
    "def rate_battery(capacity_mah1):\n",
    "    capacity_mah = re.findall(r'\\d+',capacity_mah1)\n",
    "    capacity_mah = int(''.join(capacity_mah))\n",
    "    score = 0\n",
    "    if capacity_mah >= 5500:\n",
    "        score += 10\n",
    "    elif capacity_mah >= 5000:\n",
    "        score += 8\n",
    "    elif capacity_mah >= 4500:\n",
    "        score += 7\n",
    "    elif capacity_mah >= 3500:\n",
    "        score += 5\n",
    "    else:\n",
    "        score += 2\n",
    "    return round(min(score, 10), 1)\n",
    "sf['Battery'] = sf['Battery Capacity'].apply(rate_battery)\n"
   ]
  },
  {
   "cell_type": "code",
   "execution_count": 33,
   "id": "2b93f8da",
   "metadata": {},
   "outputs": [],
   "source": [
    "def screensize(size_inch1):\n",
    "    size_inch = re.findall(r'\\d+',size_inch1)\n",
    "    if size_inch:\n",
    "        size_inch = int(size_inch[0])\n",
    "        score = 0\n",
    "        if size_inch <= 4.5:\n",
    "            score += 2\n",
    "        elif size_inch <= 5.0:\n",
    "            score += 3\n",
    "        elif size_inch <= 5.5:\n",
    "            score += 5\n",
    "        elif size_inch <= 6.0:\n",
    "            score += 8\n",
    "        elif size_inch <= 6.8:\n",
    "            score += 9\n",
    "        else:\n",
    "            score += 0\n",
    "        return score\n",
    "    else:\n",
    "        return 0\n",
    "sf['Screen_Formfactor'] = sf['Screen Size'].apply(screensize)"
   ]
  },
  {
   "cell_type": "code",
   "execution_count": 34,
   "id": "461a2474",
   "metadata": {},
   "outputs": [],
   "source": [
    "def rate_ram(ram_gb1):\n",
    "    ram_gb = re.findall(r'\\d+', ram_gb1)\n",
    "    if ram_gb:  # Check if the list is not empty\n",
    "        ram_gb = int(ram_gb[0])  # Convert the first number to an integer\n",
    "        if ram_gb <= 3:\n",
    "            return 2  # Very low, outdated\n",
    "        elif ram_gb <= 4:\n",
    "            return 4  # Entry-level\n",
    "        elif ram_gb <= 6:\n",
    "            return 6  # Basic multitasking\n",
    "        elif ram_gb <= 8:\n",
    "            return 8 # Mid-range\n",
    "        elif ram_gb < 12:\n",
    "            return 9   # Excellent multitasking and gaming\n",
    "        else:\n",
    "            return 10  # Flagship-level, future-proof\n",
    "    else:\n",
    "        return 0  # Default value if no number is found\n",
    "\n",
    "sf['Multitasking'] = sf['RAM'].apply(rate_ram)"
   ]
  },
  {
   "cell_type": "code",
   "execution_count": 35,
   "id": "1353bbbc",
   "metadata": {},
   "outputs": [
    {
     "name": "stdout",
     "output_type": "stream",
     "text": [
      "    Company Name            Model Name Mobile Weight  RAM  Front Camera  \\\n",
      "0          Apple       iPhone 16 128GB          174g    6            12   \n",
      "1          Apple       iPhone 16 256GB          174g    6            12   \n",
      "2          Apple       iPhone 16 512GB          174g    6            12   \n",
      "3          Apple  iPhone 16 Plus 128GB          203g    6            12   \n",
      "4          Apple  iPhone 16 Plus 256GB          203g    6            12   \n",
      "..           ...                   ...           ...  ...           ...   \n",
      "925         Poco          Pad 5G 128GB          571g    8             8   \n",
      "926         Poco          Pad 5G 256GB          571g    8             8   \n",
      "927      Samsung  Galaxy Z Fold6 256GB          239g   12            10   \n",
      "928      Samsung  Galaxy Z Fold6 512GB          239g   12            10   \n",
      "929      Samsung    Galaxy Z Fold6 1TB          239g   12            10   \n",
      "\n",
      "     Back Camera  Processor  Battery Capacity  Screen Size  \\\n",
      "0             48          7              3600          6.1   \n",
      "1             48          7              3600          6.1   \n",
      "2             48          7              3600          6.1   \n",
      "3             48          7              4200          6.7   \n",
      "4             48          7              4200          6.7   \n",
      "..           ...        ...               ...          ...   \n",
      "925            8        189             10000         12.1   \n",
      "926            8        189             10000         12.1   \n",
      "927           50        194              4400          7.6   \n",
      "928           50        194              4400          7.6   \n",
      "929           50        194              4400          7.6   \n",
      "\n",
      "    Launched Price (Pakistan) Launched Price (India) Launched Price (China)  \\\n",
      "0                 PKR 224,999             INR 79,999              CNY 5,799   \n",
      "1                 PKR 234,999             INR 84,999              CNY 6,099   \n",
      "2                 PKR 244,999             INR 89,999              CNY 6,499   \n",
      "3                 PKR 249,999             INR 89,999              CNY 6,199   \n",
      "4                 PKR 259,999             INR 94,999              CNY 6,499   \n",
      "..                        ...                    ...                    ...   \n",
      "925                PKR 66,220             INR 23,999              CNY 2,099   \n",
      "926                PKR 71,220             INR 25,999              CNY 2,299   \n",
      "927               PKR 604,999            INR 164,999                 13,999   \n",
      "928               PKR 544,999            INR 176,999             CNY 15,999   \n",
      "929             Not available            INR 200,999             CNY 17,999   \n",
      "\n",
      "    Launched Price (USA) Launched Price (Dubai)  Launched Year  Performance  \\\n",
      "0                USD 799              AED 2,799           2024           10   \n",
      "1                USD 849              AED 2,999           2024           10   \n",
      "2                USD 899              AED 3,199           2024           10   \n",
      "3                USD 899              AED 3,199           2024           10   \n",
      "4                USD 949              AED 3,399           2024           10   \n",
      "..                   ...                    ...            ...          ...   \n",
      "925              USD 280              AED 1,029           2024            6   \n",
      "926              USD 300              AED 1,099           2024            6   \n",
      "927            USD 1,899              AED 7,199           2024            8   \n",
      "928             USD 1719              AED 7,699           2024            8   \n",
      "929            USD 2,259              AED 8,699           2024            8   \n",
      "\n",
      "     Camera  Battery  Screen_Formfactor  Multitasking  \n",
      "0      10.0        5                  8             6  \n",
      "1      10.0        5                  8             6  \n",
      "2      10.0        5                  8             6  \n",
      "3      10.0        5                  8             6  \n",
      "4      10.0        5                  8             6  \n",
      "..      ...      ...                ...           ...  \n",
      "925     8.0       10                  0             8  \n",
      "926     8.0       10                  0             8  \n",
      "927    10.0        5                  0            10  \n",
      "928    10.0        5                  0            10  \n",
      "929    10.0        5                  0            10  \n",
      "\n",
      "[930 rows x 20 columns]\n"
     ]
    }
   ],
   "source": [
    "sf['RAM'] = sf['RAM'].str.extract(r'(\\d+)').astype(int)\n",
    "sf['Battery Capacity'] = sf['Battery Capacity'].str.replace(',','')\n",
    "sf['Battery Capacity'] = sf['Battery Capacity'].str.extract(r'(\\d+)').astype(int)\n",
    "sf['Front Camera'] = sf['Front Camera'].str.extract(r'(\\d+)').astype(int)\n",
    "sf['Back Camera'] = sf['Back Camera'].str.extract(r'(\\d+)').astype(int)\n",
    "sf['Screen Size'] = sf['Screen Size'].str.extract(r'(\\d+\\.?\\d*)').astype(float)\n",
    "le = LabelEncoder()\n",
    "sf['Processor'] = le.fit_transform(sf['Processor'])\n",
    "\n",
    "\n",
    "print(sf)"
   ]
  },
  {
   "cell_type": "code",
   "execution_count": 48,
   "id": "768948dd",
   "metadata": {},
   "outputs": [],
   "source": [
    "feature_target_map = {\n",
    "    \"Performance\": [\"Processor\"],\n",
    "    \"Camera\": [\"Front Camera\", \"Back Camera\"],\n",
    "    \"Battery\": [\"Battery Capacity\"],\n",
    "    \"Screen_Formfactor\": [\"Screen Size\"],\n",
    "    \"Multitasking\": [\"RAM\"]\n",
    "}\n",
    "models = {}\n",
    "scores = {}\n",
    "for target, features in feature_target_map.items():\n",
    "    X = sf[features]\n",
    "    y = sf[target]\n",
    "\n",
    "    X_train, X_test, y_train, y_test = train_test_split(X, y, test_size=0.2, random_state=42)\n",
    "\n",
    "    model = RandomForestRegressor(n_estimators=100, random_state=42)\n",
    "    model.fit(X_train, y_train)\n",
    "\n",
    "    models[target] = model"
   ]
  },
  {
   "cell_type": "code",
   "execution_count": 49,
   "id": "d59ed90d",
   "metadata": {},
   "outputs": [
    {
     "name": "stdout",
     "output_type": "stream",
     "text": [
      "\n",
      "📱 New Mobile Rating Predictions:\n",
      "   ➤ Performance: 8.0 / 10\n",
      "   ➤ Camera: 10.0 / 10\n",
      "   ➤ Battery: 2.0 / 10\n",
      "   ➤ Screen_Formfactor: 8.0 / 10\n",
      "   ➤ Multitasking: 10.0 / 10\n"
     ]
    },
    {
     "name": "stderr",
     "output_type": "stream",
     "text": [
      "c:\\Users\\modip\\OneDrive\\Desktop\\Product Recommendation System\\myvenv\\Lib\\site-packages\\sklearn\\utils\\validation.py:2739: UserWarning: X does not have valid feature names, but RandomForestRegressor was fitted with feature names\n",
      "  warnings.warn(\n",
      "c:\\Users\\modip\\OneDrive\\Desktop\\Product Recommendation System\\myvenv\\Lib\\site-packages\\sklearn\\utils\\validation.py:2739: UserWarning: X does not have valid feature names, but RandomForestRegressor was fitted with feature names\n",
      "  warnings.warn(\n",
      "c:\\Users\\modip\\OneDrive\\Desktop\\Product Recommendation System\\myvenv\\Lib\\site-packages\\sklearn\\utils\\validation.py:2739: UserWarning: X does not have valid feature names, but RandomForestRegressor was fitted with feature names\n",
      "  warnings.warn(\n",
      "c:\\Users\\modip\\OneDrive\\Desktop\\Product Recommendation System\\myvenv\\Lib\\site-packages\\sklearn\\utils\\validation.py:2739: UserWarning: X does not have valid feature names, but RandomForestRegressor was fitted with feature names\n",
      "  warnings.warn(\n",
      "c:\\Users\\modip\\OneDrive\\Desktop\\Product Recommendation System\\myvenv\\Lib\\site-packages\\sklearn\\utils\\validation.py:2739: UserWarning: X does not have valid feature names, but RandomForestRegressor was fitted with feature names\n",
      "  warnings.warn(\n"
     ]
    }
   ],
   "source": [
    "# New mobile input: [RAM, Processor, Battery Capacity, Front Camera, Back Camera, Screen Size]\n",
    "new_mobile = [[12, le.transform(['A15 Bionic'])[0], 2000, 16, 64, 6.5]]\n",
    "\n",
    "# Column order for unpacking\n",
    "columns = ['RAM', 'Processor', 'Battery Capacity', 'Front Camera', 'Back Camera', 'Screen Size']\n",
    "\n",
    "# Convert to dictionary for flexible feature selection\n",
    "new_mobile_dict = dict(zip(columns, new_mobile[0]))\n",
    "\n",
    "# Predict each target based on its respective features\n",
    "predictions = {}\n",
    "\n",
    "for target, features in feature_target_map.items():\n",
    "    model = models[target]\n",
    "    \n",
    "    # Extract relevant features from new_mobile\n",
    "    input_vector = [[new_mobile_dict[feat] for feat in features]]\n",
    "    \n",
    "    # Predict the target score\n",
    "    pred = model.predict(input_vector)[0]\n",
    "    predictions[target] = round(pred,2)\n",
    "\n",
    "# Display final predictions\n",
    "print(\"\\n📱 New Mobile Rating Predictions:\")\n",
    "for target, score in predictions.items():\n",
    "    print(f\"   ➤ {target}: {score} / 10\")\n"
   ]
  },
  {
   "cell_type": "code",
   "execution_count": 50,
   "id": "689f5be1",
   "metadata": {},
   "outputs": [
    {
     "data": {
      "text/plain": [
       "['processor_encoder.pkl']"
      ]
     },
     "execution_count": 50,
     "metadata": {},
     "output_type": "execute_result"
    }
   ],
   "source": [
    "import joblib\n",
    "\n",
    "joblib.dump(models, 'model.pkl')                   # your dict of models\n",
    "joblib.dump(le, 'processor_encoder.pkl')           # LabelEncoder used on 'Processor'\n"
   ]
  }
 ],
 "metadata": {
  "kernelspec": {
   "display_name": "myvenv",
   "language": "python",
   "name": "python3"
  },
  "language_info": {
   "codemirror_mode": {
    "name": "ipython",
    "version": 3
   },
   "file_extension": ".py",
   "mimetype": "text/x-python",
   "name": "python",
   "nbconvert_exporter": "python",
   "pygments_lexer": "ipython3",
   "version": "3.13.3"
  }
 },
 "nbformat": 4,
 "nbformat_minor": 5
}
